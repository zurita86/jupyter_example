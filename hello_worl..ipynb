{
   "cell_type": "code",
   "execution_count": 1,
   "metadata": {
    "collapsed": true
   },
   "outputs": [],
   "source": [
    "print("Hello World!")",
   ]
  }
